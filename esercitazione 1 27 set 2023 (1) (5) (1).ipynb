{
 "cells": [
  {
   "cell_type": "code",
   "execution_count": 1,
   "id": "a79a7521",
   "metadata": {},
   "outputs": [
    {
     "name": "stdout",
     "output_type": "stream",
     "text": [
      "Ciao, mondo!\n"
     ]
    }
   ],
   "source": [
    "print(\"Ciao, mondo!\")"
   ]
  },
  {
   "cell_type": "code",
   "execution_count": 2,
   "id": "26f9ba8c",
   "metadata": {},
   "outputs": [
    {
     "name": "stdout",
     "output_type": "stream",
     "text": [
      "Inserisci il tuo nome:Luca\n",
      "Ciao,  Luca !\n"
     ]
    }
   ],
   "source": [
    "nome = input(\"Inserisci il tuo nome:\")\n",
    "print(\"Ciao, \", nome, \"!\")"
   ]
  },
  {
   "cell_type": "code",
   "execution_count": 3,
   "id": "f78a6969",
   "metadata": {},
   "outputs": [
    {
     "name": "stdout",
     "output_type": "stream",
     "text": [
      "Inserisci il tuo nome:Luca\n",
      "Ciao,  Luca !\n",
      "Ciao,  Luca !\n",
      "Ciao,  Luca !\n",
      "Ciao,  Luca !\n",
      "Ciao,  Luca !\n"
     ]
    }
   ],
   "source": [
    "nome = input(\"Inserisci il tuo nome:\")\n",
    "for i in range(5):\n",
    "    print(\"Ciao, \", nome, \"!\")"
   ]
  },
  {
   "cell_type": "code",
   "execution_count": 5,
   "id": "dfa0621b",
   "metadata": {},
   "outputs": [
    {
     "name": "stdout",
     "output_type": "stream",
     "text": [
      "Inserisci un numero: 5\n",
      "Inserisci un numero: 6\n",
      "La somma è: 11\n"
     ]
    }
   ],
   "source": [
    "numero1 = int(input(\"Inserisci un numero: \"))\n",
    "numero2 = int(input(\"Inserisci un numero: \"))\n",
    "somma = numero1 + numero2\n",
    "print(\"La somma è:\", somma)"
   ]
  },
  {
   "cell_type": "code",
   "execution_count": 6,
   "id": "61f27f31",
   "metadata": {},
   "outputs": [
    {
     "name": "stdout",
     "output_type": "stream",
     "text": [
      "La sottrazione è: -1\n"
     ]
    }
   ],
   "source": [
    "sottrazione = numero1 - numero2\n",
    "print(\"La sottrazione è:\", sottrazione)"
   ]
  },
  {
   "cell_type": "code",
   "execution_count": 7,
   "id": "35913166",
   "metadata": {},
   "outputs": [
    {
     "name": "stdout",
     "output_type": "stream",
     "text": [
      "Il prodotto è: 30\n"
     ]
    }
   ],
   "source": [
    "moltiplicazione = numero1 * numero2\n",
    "print(\"Il prodotto è:\", moltiplicazione)"
   ]
  },
  {
   "cell_type": "code",
   "execution_count": 8,
   "id": "c599f449",
   "metadata": {},
   "outputs": [
    {
     "name": "stdout",
     "output_type": "stream",
     "text": [
      "Il risultato è: 0.8333333333333334\n"
     ]
    }
   ],
   "source": [
    "divisione = numero1 / numero2\n",
    "print(\"Il risultato è:\", divisione)"
   ]
  },
  {
   "cell_type": "code",
   "execution_count": 9,
   "id": "d3bc913f",
   "metadata": {},
   "outputs": [
    {
     "name": "stdout",
     "output_type": "stream",
     "text": [
      "1\n",
      "2\n",
      "3\n",
      "4\n",
      "5\n",
      "6\n",
      "7\n",
      "8\n",
      "9\n",
      "10\n"
     ]
    }
   ],
   "source": [
    "for numero in range(1, 11):\n",
    "    print(numero)"
   ]
  },
  {
   "cell_type": "code",
   "execution_count": 10,
   "id": "d080eb3e",
   "metadata": {},
   "outputs": [
    {
     "name": "stdout",
     "output_type": "stream",
     "text": [
      "inserisci un simbolo (+, -, , /): +\n",
      "Inserisci il primo numero: 4\n",
      "Inserisci il secondo numero: 6\n",
      "il risultato è: 10.0\n"
     ]
    }
   ],
   "source": [
    "operazione = input(\"inserisci un simbolo (+, -, , /): \")\n",
    "\n",
    "numero1 = float(input(\"Inserisci il primo numero: \"))\n",
    "numero2 = float(input(\"Inserisci il secondo numero: \"))\n",
    "\n",
    "if operazione == \"+\":\n",
    "    risultato = numero1 + numero2\n",
    "elif operazione == \"-\":\n",
    "    risultato = numero1 - numero2\n",
    "elif operazione == \"\":\n",
    "    risultato = numero1 * numero2\n",
    "elif operazione == \"/\":\n",
    "    risultato = numero1 / numero2\n",
    "else:\n",
    "    risultato = \"Operazione non valida\"\n",
    "\n",
    "print(\"il risultato è:\", risultato)\n"
   ]
  },
  {
   "cell_type": "code",
   "execution_count": 11,
   "id": "c986ae01",
   "metadata": {},
   "outputs": [
    {
     "name": "stdout",
     "output_type": "stream",
     "text": [
      "inserisci un numnero intero positivo: 10\n",
      "La somma dei primi 10 numeri interi è: 55\n"
     ]
    }
   ],
   "source": [
    "n = int(input(\"inserisci un numnero intero positivo: \"))\n",
    "somma = 0\n",
    "for numero in range(1, n+1):\n",
    "    #somma = somma+ numero\n",
    "    somma += numero\n",
    "print(\"La somma dei primi\", n, \"numeri interi è:\", somma)\n"
   ]
  },
  {
   "cell_type": "code",
   "execution_count": 12,
   "id": "d94c3319",
   "metadata": {},
   "outputs": [
    {
     "name": "stdout",
     "output_type": "stream",
     "text": [
      "Inserisci un numero intero positivo: 2\n",
      "Quadrati dei primi 2 numeri: \n",
      "Il quadrato di 1 è 1\n",
      "Il quadrato di 2 è 4\n"
     ]
    }
   ],
   "source": [
    "n = int(input(\"Inserisci un numero intero positivo: \"))\n",
    "\n",
    "print(\"Quadrati dei primi\", n, \"numeri: \")\n",
    "\n",
    "for numero in range (1,n+1):\n",
    "    quadrato = numero ** 2\n",
    "    print(\"Il quadrato di\", numero, \"è\", quadrato)"
   ]
  },
  {
   "cell_type": "code",
   "execution_count": 13,
   "id": "ddbf56f2",
   "metadata": {},
   "outputs": [
    {
     "name": "stdout",
     "output_type": "stream",
     "text": [
      "Inserisci un numero: 9\n",
      "9 è un numero dispari.\n"
     ]
    }
   ],
   "source": [
    "numero = int(input(\"Inserisci un numero: \"))\n",
    "\n",
    "if numero % 2 == 0:\n",
    "    print(numero, \"è un numero pari.\")\n",
    "else:\n",
    "    print(numero, \"è un numero dispari.\")"
   ]
  },
  {
   "cell_type": "code",
   "execution_count": 5,
   "id": "cfc0b472",
   "metadata": {},
   "outputs": [
    {
     "name": "stdout",
     "output_type": "stream",
     "text": [
      "inserisci un numero intero positivo100\n",
      "il fattoriale di 100 è: 93326215443944152681699238856266700490715968264381621468592963895217599993229915608941463976156518286253697920827223758251185210916864000000000000000000000000\n"
     ]
    }
   ],
   "source": [
    "n = int(input(\"inserisci un numero intero positivo\"))\n",
    "fattoriale = 1\n",
    "\n",
    "for numero in range(1, n + 1):\n",
    "    #fattoriale = fattoriale*numero\n",
    "    fattoriale *=numero\n",
    "print( \"il fattoriale di\", n, \"è:\", fattoriale)"
   ]
  },
  {
   "cell_type": "code",
   "execution_count": 6,
   "id": "ce0dbf1c",
   "metadata": {},
   "outputs": [
    {
     "name": "stdout",
     "output_type": "stream",
     "text": [
      "inserisci un numero intero positivo50\n",
      "il fattoriale di 50 è: 30414093201713378043612608166064768844377641568960512000000000000\n"
     ]
    }
   ],
   "source": [
    "n = int(input(\"inserisci un numero intero positivo\"))\n",
    "fattoriale = 1\n",
    "\n",
    "for numero in range(1, n + 1):\n",
    "    #fattoriale = fattoriale*numero\n",
    "    fattoriale *=numero\n",
    "print( \"il fattoriale di\", n, \"è:\", fattoriale)"
   ]
  },
  {
   "cell_type": "code",
   "execution_count": 7,
   "id": "2c972963",
   "metadata": {},
   "outputs": [
    {
     "name": "stdout",
     "output_type": "stream",
     "text": [
      "inserisci un numero intero positivo36\n",
      "il fattoriale di 36 è: 371993326789901217467999448150835200000000\n"
     ]
    }
   ],
   "source": [
    "n = int(input(\"inserisci un numero intero positivo\"))\n",
    "fattoriale = 1\n",
    "\n",
    "for numero in range(1, n + 1):\n",
    "    fattoriale = fattoriale*numero\n",
    "    #fattoriale *=numero\n",
    "print( \"il fattoriale di\", n, \"è:\", fattoriale)"
   ]
  },
  {
   "cell_type": "code",
   "execution_count": 8,
   "id": "9e380f58",
   "metadata": {
    "scrolled": true
   },
   "outputs": [
    {
     "name": "stdout",
     "output_type": "stream",
     "text": [
      "Quanti numeri vuoi inserire?5\n",
      "inserisci un numero8\n",
      "inserisci un numero9\n",
      "inserisci un numero11\n",
      "inserisci un numero45\n",
      "inserisci un numero7\n",
      "La media dei numeri inseriti è: 16.0 la lista completa è: [8.0, 9.0, 11.0, 45.0, 7.0]\n"
     ]
    }
   ],
   "source": [
    "numeri = []\n",
    "\n",
    "n = int(input(\"Quanti numeri vuoi inserire?\"))\n",
    "\n",
    "for i in range(n):\n",
    "    numero = float(input(\"inserisci un numero\"))\n",
    "    numeri.append(numero)\n",
    "    \n",
    "media = sum(numeri) / len(numeri)\n",
    "\n",
    "print(\"La media dei numeri inseriti è:\", media,\"la lista completa è:\", numeri)"
   ]
  },
  {
   "cell_type": "code",
   "execution_count": 11,
   "id": "43eb47ed",
   "metadata": {},
   "outputs": [
    {
     "name": "stdout",
     "output_type": "stream",
     "text": [
      "Quanti numeri vuoi inserire?6\n",
      "inserisci un numero4\n",
      "inserisci un numero8\n",
      "inserisci un numero4\n",
      "inserisci un numero9\n",
      "inserisci un numero3\n",
      "inserisci un numero8\n",
      "La media dei numeri inseriti è: 6.0 la lista completa è: [4.0, 8.0, 4.0, 9.0, 3.0, 8.0]\n"
     ]
    }
   ],
   "source": [
    "numeri = []\n",
    "\n",
    "n = int(input(\"Quanti numeri vuoi inserire?\"))\n",
    "\n",
    "for i in range(n):\n",
    "    numero = float(input(\"inserisci un numero\"))\n",
    "    numeri.append(numero)\n",
    "    \n",
    "media = sum(numeri) / len(numeri)\n",
    "\n",
    "print(\"La media dei numeri inseriti è:\", media,\"la lista completa è:\", numeri)"
   ]
  },
  {
   "cell_type": "code",
   "execution_count": 1,
   "id": "362ae9e4",
   "metadata": {},
   "outputs": [
    {
     "name": "stdout",
     "output_type": "stream",
     "text": [
      "indovina il numero (1-100):67\n",
      "Il numero è più piccolo.\n",
      "indovina il numero (1-100):20\n",
      "Il numero è più piccolo.\n",
      "indovina il numero (1-100):1\n",
      "Il numero è più grande.\n",
      "indovina il numero (1-100):6\n",
      "Il numero è più piccolo.\n",
      "indovina il numero (1-100):4\n",
      "Il numero è più piccolo.\n",
      "indovina il numero (1-100):2\n",
      "Il numero è più grande.\n",
      "indovina il numero (1-100):3\n",
      "Bravo! Hai indovinato il numero 3 in 7 tentativi.\n"
     ]
    }
   ],
   "source": [
    "import random\n",
    "\n",
    "numero_da_indovinare = random.randint(1, 100)\n",
    "tentativi = 0\n",
    "\n",
    "while True:\n",
    "    tentativo = int(input(\"indovina il numero (1-100):\"))\n",
    "    tentativi +=1\n",
    "    \n",
    "    if tentativo == numero_da_indovinare:\n",
    "        print(\"Bravo! Hai indovinato il numero\", numero_da_indovinare, \"in\", tentativi, \"tentativi.\") \n",
    "        break\n",
    "    elif tentativo <  numero_da_indovinare:\n",
    "        print(\"Il numero è più grande.\")\n",
    "    else:\n",
    "        print(\"Il numero è più piccolo.\")"
   ]
  },
  {
   "cell_type": "code",
   "execution_count": 2,
   "id": "f67fea0c",
   "metadata": {},
   "outputs": [
    {
     "name": "stdout",
     "output_type": "stream",
     "text": [
      "indovina il numero (1-100):90\n",
      "Il numero è più piccolo.\n",
      "indovina il numero (1-100):80\n",
      "Il numero è più piccolo.\n",
      "indovina il numero (1-100):70\n",
      "Il numero è più piccolo.\n",
      "indovina il numero (1-100):60\n",
      "Il numero è più piccolo.\n",
      "indovina il numero (1-100):50\n",
      "Il numero è più piccolo.\n",
      "indovina il numero (1-100):40\n",
      "Il numero è più piccolo.\n",
      "indovina il numero (1-100):30\n",
      "Il numero è più piccolo.\n",
      "indovina il numero (1-100):20\n",
      "Il numero è più grande.\n",
      "indovina il numero (1-100):21\n",
      "Il numero è più grande.\n",
      "indovina il numero (1-100):22\n",
      "Il numero è più grande.\n",
      "indovina il numero (1-100):23\n",
      "Il numero è più grande.\n",
      "indovina il numero (1-100):24\n",
      "Il numero è più grande.\n",
      "indovina il numero (1-100):25\n",
      "Il numero è più grande.\n",
      "indovina il numero (1-100):26\n",
      "Il numero è più grande.\n",
      "indovina il numero (1-100):27\n",
      "Il numero è più grande.\n",
      "indovina il numero (1-100):28\n",
      "Bravo! Hai indovinato il numero 28 in 16 tentativi.\n"
     ]
    }
   ],
   "source": [
    "import random\n",
    "\n",
    "numero_da_indovinare = random.randint(1, 100)\n",
    "tentativi = 0\n",
    "\n",
    "while True:\n",
    "    tentativo = int(input(\"indovina il numero (1-100):\"))\n",
    "    tentativi +=1\n",
    "    \n",
    "    if tentativo == numero_da_indovinare:\n",
    "        print(\"Bravo! Hai indovinato il numero\", numero_da_indovinare, \"in\", tentativi, \"tentativi.\") \n",
    "        break\n",
    "    elif tentativo <  numero_da_indovinare:\n",
    "        print(\"Il numero è più grande.\")\n",
    "    else:\n",
    "        print(\"Il numero è più piccolo.\")"
   ]
  },
  {
   "cell_type": "code",
   "execution_count": 7,
   "id": "28749650",
   "metadata": {},
   "outputs": [
    {
     "name": "stdout",
     "output_type": "stream",
     "text": [
      "Benvenuti al Gioco della Morra Cinese!\n",
      "Scegli la tua mossa (carta, forbici, sasso):sasso\n",
      "Il computer ha scelto: forbici\n",
      "Hai vinto!\n"
     ]
    }
   ],
   "source": [
    "import random\n",
    "\n",
    "mosse = [\"carta\", \"forbici\", \"sasso\"]\n",
    "\n",
    "computer_mossa = random.choice(mosse)\n",
    "\n",
    "print(\"Benvenuti al Gioco della Morra Cinese!\")\n",
    "scelta_giocatore = input(\"Scegli la tua mossa (carta, forbici, sasso):\")\n",
    "\n",
    "if scelta_giocatore not in mosse:\n",
    "           print(\"mossa non permessa\")\n",
    "else:\n",
    "    print(\"Il computer ha scelto:\", computer_mossa)\n",
    "    if (scelta_giocatore == computer_mossa):\n",
    "        print(\"Pareggio!\")\n",
    "    elif (scelta_giocatore == \"carta\" and computer_mossa == \"sasso\") or \\\n",
    "         (scelta_giocatore == \"forbice\" and computer_mossa == \"carta\") or \\\n",
    "         (scelta_giocatore == \"sasso\" and computer_mossa == \"forbici\"): \n",
    "        print(\"Hai vinto!\")\n",
    "    else:\n",
    "        print(\"Hai perso!\")\n",
    "         \n",
    "                        "
   ]
  },
  {
   "cell_type": "code",
   "execution_count": 8,
   "id": "2a8805d4",
   "metadata": {},
   "outputs": [
    {
     "name": "stdout",
     "output_type": "stream",
     "text": [
      "Benvenuti al Gioco della Morra Cinese!\n",
      "Scegli la tua mossa (carta, forbici, sasso):forbice\n",
      "mossa non permessa\n"
     ]
    }
   ],
   "source": [
    "import random\n",
    "\n",
    "mosse = [\"carta\", \"forbici\", \"sasso\"]\n",
    "\n",
    "computer_mossa = random.choice(mosse)\n",
    "\n",
    "print(\"Benvenuti al Gioco della Morra Cinese!\")\n",
    "scelta_giocatore = input(\"Scegli la tua mossa (carta, forbici, sasso):\")\n",
    "\n",
    "if scelta_giocatore not in mosse:\n",
    "           print(\"mossa non permessa\")\n",
    "else:\n",
    "    print(\"Il computer ha scelto:\", computer_mossa)\n",
    "    if (scelta_giocatore == computer_mossa):\n",
    "        print(\"Pareggio!\")\n",
    "    elif (scelta_giocatore == \"carta\" and computer_mossa == \"sasso\") or \\\n",
    "         (scelta_giocatore == \"forbice\" and computer_mossa == \"carta\") or \\\n",
    "         (scelta_giocatore == \"sasso\" and computer_mossa == \"forbici\"): \n",
    "        print(\"Hai vinto!\")\n",
    "    else:\n",
    "        print(\"Hai perso!\")"
   ]
  },
  {
   "cell_type": "code",
   "execution_count": 9,
   "id": "52dcae82",
   "metadata": {},
   "outputs": [
    {
     "name": "stdout",
     "output_type": "stream",
     "text": [
      "Benvenuti al Gioco della Morra Cinese!\n",
      "Scegli la tua mossa (carta, forbici, sasso):carta\n",
      "Il computer ha scelto: sasso\n",
      "Hai vinto!\n"
     ]
    }
   ],
   "source": [
    "import random\n",
    "\n",
    "mosse = [\"carta\", \"forbici\", \"sasso\"]\n",
    "\n",
    "computer_mossa = random.choice(mosse)\n",
    "\n",
    "print(\"Benvenuti al Gioco della Morra Cinese!\")\n",
    "scelta_giocatore = input(\"Scegli la tua mossa (carta, forbici, sasso):\")\n",
    "\n",
    "if scelta_giocatore not in mosse:\n",
    "           print(\"mossa non permessa\")\n",
    "else:\n",
    "    print(\"Il computer ha scelto:\", computer_mossa)\n",
    "    if (scelta_giocatore == computer_mossa):\n",
    "        print(\"Pareggio!\")\n",
    "    elif (scelta_giocatore == \"carta\" and computer_mossa == \"sasso\") or \\\n",
    "         (scelta_giocatore == \"forbice\" and computer_mossa == \"carta\") or \\\n",
    "         (scelta_giocatore == \"sasso\" and computer_mossa == \"forbici\"): \n",
    "        print(\"Hai vinto!\")\n",
    "    else:\n",
    "        print(\"Hai perso!\")"
   ]
  },
  {
   "cell_type": "code",
   "execution_count": 10,
   "id": "13f7b652",
   "metadata": {},
   "outputs": [
    {
     "name": "stdout",
     "output_type": "stream",
     "text": [
      "inserisci un numero intero5\n",
      "il fattoriale di 5 è 120\n"
     ]
    }
   ],
   "source": [
    "n=int(input(\"inserisci un numero intero\"))\n",
    "\n",
    "fattoriale=1\n",
    "\n",
    "if n<0:\n",
    "    print(\"numero negativo\")\n",
    "elif n==0:\n",
    "    print(\"il fattoriale di zero è 1 per definizione\")\n",
    "else: \n",
    "    for numero in range(1,n+1):\n",
    "        fattoriale*=numero\n",
    "print(f\"il fattoriale di {n} è {fattoriale}\")\n",
    "        "
   ]
  },
  {
   "cell_type": "code",
   "execution_count": 11,
   "id": "aead922f",
   "metadata": {},
   "outputs": [
    {
     "name": "stdout",
     "output_type": "stream",
     "text": [
      "inserisci un numero intero10\n",
      "il fattoriale di 10 è 3628800\n"
     ]
    }
   ],
   "source": [
    "n=int(input(\"inserisci un numero intero\"))\n",
    "\n",
    "fattoriale=1\n",
    "\n",
    "if n<0:\n",
    "    print(\"numero negativo\")\n",
    "elif n==0:\n",
    "    print(\"il fattoriale di zero è 1 per definizione\")\n",
    "else: \n",
    "    for numero in range(1,n+1):\n",
    "        fattoriale*=numero\n",
    "print(f\"il fattoriale di {n} è {fattoriale}\")"
   ]
  },
  {
   "cell_type": "code",
   "execution_count": 12,
   "id": "083e6098",
   "metadata": {},
   "outputs": [
    {
     "name": "stdout",
     "output_type": "stream",
     "text": [
      "inserisci un numero intero2\n",
      "il fattoriale di 2 è 2\n"
     ]
    }
   ],
   "source": [
    "n=int(input(\"inserisci un numero intero\"))\n",
    "\n",
    "fattoriale=1\n",
    "\n",
    "if n<0:\n",
    "    print(\"numero negativo\")\n",
    "elif n==0:\n",
    "    print(\"il fattoriale di zero è 1 per definizione\")\n",
    "else: \n",
    "    for numero in range(1,n+1):\n",
    "        fattoriale*=numero\n",
    "print(f\"il fattoriale di {n} è {fattoriale}\")\n"
   ]
  },
  {
   "cell_type": "code",
   "execution_count": 13,
   "id": "ee99cedb",
   "metadata": {},
   "outputs": [
    {
     "name": "stdout",
     "output_type": "stream",
     "text": [
      "inserisci un numero intero: 4\n",
      "il fattoriale di 4 è 24\n"
     ]
    }
   ],
   "source": [
    "n=int(input(\"inserisci un numero intero: \"))\n",
    "\n",
    "fattoriale=1\n",
    "\n",
    "if n<0:\n",
    "    print(\"numero negativo\")\n",
    "elif n==0:\n",
    "    print(\"il fattoriale di zero è 1 per definizione\")\n",
    "else: \n",
    "    for numero in range(1,n+1):\n",
    "        fattoriale*=numero\n",
    "print(f\"il fattoriale di {n} è {fattoriale}\")"
   ]
  },
  {
   "cell_type": "code",
   "execution_count": 14,
   "id": "a6a601f6",
   "metadata": {},
   "outputs": [
    {
     "name": "stdout",
     "output_type": "stream",
     "text": [
      "inserisci un numero intero positivo N: 7\n",
      "La somma dei primi 4 numeri pari è 56\n"
     ]
    }
   ],
   "source": [
    "#chiedere all'utente di inserire un numero intero positivo N\n",
    "N = int(input(\"inserisci un numero intero positivo N: \"))\n",
    "\n",
    "#inizializzare la somma a zero\n",
    "somma = 0\n",
    "\n",
    "#calcolare la somma dei primi N numeri pari\n",
    "for numero in range(2, 2 * N + 1, 2):\n",
    "    somma += numero\n",
    "    \n",
    "print(f\"La somma dei primi {n} numeri pari è {somma}\")\n"
   ]
  },
  {
   "cell_type": "code",
   "execution_count": 15,
   "id": "5342864d",
   "metadata": {},
   "outputs": [
    {
     "name": "stdout",
     "output_type": "stream",
     "text": [
      "inserisci un numero intero positivo N: 3\n",
      "La somma dei primi 4 numeri pari è 12\n"
     ]
    }
   ],
   "source": [
    "#chiedere all'utente di inserire un numero intero positivo N\n",
    "N = int(input(\"inserisci un numero intero positivo N: \"))\n",
    "\n",
    "#inizializzare la somma a zero\n",
    "somma = 0\n",
    "\n",
    "#calcolare la somma dei primi N numeri pari\n",
    "for numero in range(2, 2 * N + 1, 2):\n",
    "    somma += numero\n",
    "    \n",
    "print(f\"La somma dei primi {n} numeri pari è {somma}\")"
   ]
  },
  {
   "cell_type": "code",
   "execution_count": 16,
   "id": "34511a4a",
   "metadata": {},
   "outputs": [
    {
     "name": "stdout",
     "output_type": "stream",
     "text": [
      "inserisci un numero intero positivo N: 6\n",
      "La somma dei primi 4 numeri pari è 0\n"
     ]
    }
   ],
   "source": [
    "#chiedere all'utente di inserire un numero intero positivo N\n",
    "N = int(input(\"inserisci un numero intero positivo N: \"))\n",
    "\n",
    "#inizializzare la somma a zero\n",
    "somma = 0\n",
    "print(f\"La somma dei primi {n} numeri pari è {somma}\")\n",
    "\n",
    "#calcolare la somma dei primi N numeri pari\n",
    "for numero in range(2, 2 * N + 1, 2):\n",
    "    somma += numero\n",
    "    \n"
   ]
  },
  {
   "cell_type": "code",
   "execution_count": 17,
   "id": "2e0523bc",
   "metadata": {},
   "outputs": [
    {
     "name": "stdout",
     "output_type": "stream",
     "text": [
      "inserisci un numero intero positivo N: 5\n",
      "[2, 4, 6, 8, 10]\n"
     ]
    }
   ],
   "source": [
    "#chiedere all'utente di inserire un numero intero positivo N\n",
    "N = int(input(\"inserisci un numero intero positivo N: \"))\n",
    "lista=[]\n",
    "\n",
    "#inizializzare la somma a zero\n",
    "somma = 0\n",
    "\n",
    "#calcolare la somma dei primi N numeri pari\n",
    "for numero in range(2, 2 * N + 1, 2):\n",
    "    lista.append(numero)\n",
    "    \n",
    "print(lista) "
   ]
  },
  {
   "cell_type": "code",
   "execution_count": 18,
   "id": "d23cf2f7",
   "metadata": {},
   "outputs": [
    {
     "name": "stdout",
     "output_type": "stream",
     "text": [
      "Inserisci una frase o una parola: Luca\n",
      "Nella frase inserita ci sono 2 vocali.\n"
     ]
    }
   ],
   "source": [
    "#chiedi all'utente di inserire una frase o una parola\n",
    "frase = input(\"Inserisci una frase o una parola: \").lower()  # Covert tutto in minuscolo per semplificarlo\n",
    "\n",
    "#nizializza il contatore delle vocali\n",
    "conteggio_vocali = 0\n",
    "\n",
    "#definisci le vocali da cercare\n",
    "vocali = \"aeiou\"\n",
    "\n",
    "#Scansiona ogni carattere nella frase\n",
    "for carattere in frase:\n",
    "    #Verifica se il carattere è una vocale\n",
    "    if carattere in vocali:\n",
    "        conteggio_vocali += 1\n",
    "\n",
    "# Stampa il conteggio delle vocali\n",
    "print(f\"Nella frase inserita ci sono {conteggio_vocali} vocali.\")"
   ]
  },
  {
   "cell_type": "code",
   "execution_count": 19,
   "id": "97f72046",
   "metadata": {},
   "outputs": [
    {
     "name": "stdout",
     "output_type": "stream",
     "text": [
      "Inserisci una frase o una parola: Forza Inter!\n",
      "Nella frase inserita ci sono 4 vocali.\n"
     ]
    }
   ],
   "source": [
    "#chiedi all'utente di inserire una frase o una parola\n",
    "frase = input(\"Inserisci una frase o una parola: \").lower()  # Covert tutto in minuscolo per semplificarlo\n",
    "\n",
    "#nizializza il contatore delle vocali\n",
    "conteggio_vocali = 0\n",
    "\n",
    "#definisci le vocali da cercare\n",
    "vocali = \"aeiou\"\n",
    "\n",
    "#Scansiona ogni carattere nella frase\n",
    "for carattere in frase:\n",
    "    #Verifica se il carattere è una vocale\n",
    "    if carattere in vocali:\n",
    "        conteggio_vocali += 1\n",
    "\n",
    "# Stampa il conteggio delle vocali\n",
    "print(f\"Nella frase inserita ci sono {conteggio_vocali} vocali.\")"
   ]
  },
  {
   "cell_type": "code",
   "execution_count": 12,
   "id": "f234d9f7",
   "metadata": {},
   "outputs": [
    {
     "ename": "SyntaxError",
     "evalue": "unterminated string literal (detected at line 14) (536523126.py, line 14)",
     "output_type": "error",
     "traceback": [
      "\u001b[1;36m  Cell \u001b[1;32mIn[12], line 14\u001b[1;36m\u001b[0m\n\u001b[1;33m    print(f\"anno{anno+1}: popolazione = {int(poplazione)})\u001b[0m\n\u001b[1;37m          ^\u001b[0m\n\u001b[1;31mSyntaxError\u001b[0m\u001b[1;31m:\u001b[0m unterminated string literal (detected at line 14)\n"
     ]
    }
   ],
   "source": [
    "#Inizializza la popolazione e gli anni \n",
    "popolazione = int(input(\"inserisci popolazione iniziale: \"))\n",
    "anni = input(input(\"inserisci numero di anni da simulare\"))\n",
    "# tasso di natalità e tasso di mortalità (percentuale annuale)\n",
    "tasso_natalità = float(input(\"inserisci tasso natalità: \"))\n",
    "tasso_natalità = float(input(\"inserisci tasso mortalità: \"))\n",
    "\n",
    "#simulazione della crescita della popolazione\n",
    "for anno in range(anni):\n",
    "    nascite = (popolazione * tasso_anatalità) / 100\n",
    "    morti = (popolazione * tasso_mortalità) / 100\n",
    "    popolazione += (nascite - morti)\n",
    "    \n",
    "    print(f\"anno{anno+1}: popolazione = {int(poplazione)})\n",
    "\n",
    "print(\"simulazione completata.\")"
   ]
  },
  {
   "cell_type": "code",
   "execution_count": 14,
   "id": "7f5ecdef",
   "metadata": {},
   "outputs": [
    {
     "ename": "SyntaxError",
     "evalue": "unterminated string literal (detected at line 14) (381063263.py, line 14)",
     "output_type": "error",
     "traceback": [
      "\u001b[1;36m  Cell \u001b[1;32mIn[14], line 14\u001b[1;36m\u001b[0m\n\u001b[1;33m    print(f\"anno{anno+1}: popolazione = {int(poplazione)})\u001b[0m\n\u001b[1;37m          ^\u001b[0m\n\u001b[1;31mSyntaxError\u001b[0m\u001b[1;31m:\u001b[0m unterminated string literal (detected at line 14)\n"
     ]
    }
   ],
   "source": [
    "#Inizializza la popolazione e gli anni \n",
    "popolazione = int(input(\"inserisci popolazione iniziale: \"))\n",
    "anni = input(input(\"inserisci numero di anni da simulare\"))\n",
    "# tasso di natalità e tasso di mortalità (percentuale annuale)\n",
    "tasso_natalità = float(input(\"inserisci tasso natalità: \"))\n",
    "tasso_natalità = float(input(\"inserisci tasso mortalità: \"))\n",
    "\n",
    "#simulazione della crescita della popolazione\n",
    "for anno in range(anni):\n",
    "    nascite = (popolazione * tasso_anatalità) / 100\n",
    "    morti = (popolazione * tasso_mortalità) / 100\n",
    "    popolazione += (nascite - morti)\n",
    "    \n",
    "    print(f\"anno{anno+1}: popolazione = {int(poplazione)})\n",
    "\n",
    "print(\"simulazione completata.\")\n"
   ]
  },
  {
   "cell_type": "code",
   "execution_count": 4,
   "id": "8cb9ad7f",
   "metadata": {},
   "outputs": [
    {
     "ename": "SyntaxError",
     "evalue": "unterminated string literal (detected at line 5) (2606963313.py, line 5)",
     "output_type": "error",
     "traceback": [
      "\u001b[1;36m  Cell \u001b[1;32mIn[4], line 5\u001b[1;36m\u001b[0m\n\u001b[1;33m    chiedi all'utente di indovinare il numero\u001b[0m\n\u001b[1;37m              ^\u001b[0m\n\u001b[1;31mSyntaxError\u001b[0m\u001b[1;31m:\u001b[0m unterminated string literal (detected at line 5)\n"
     ]
    }
   ],
   "source": [
    "import random\n",
    "\n",
    "#genera un numero casuale da 1 a 6 (simulando il lancio di un dado)\n",
    "numero_dado = random.randint(1, 6)\n",
    "chiedi all'utente di indovinare il numero\n",
    "indovina = int(input(\"Indovina il numero del dado (da 1 a 6) \"))\n",
    "Verifica se l'utente ha indovinato il numero corretto\n",
    "if indovina <1 or indovina >6:\n",
    "    print(\"Numero non ammesso\")\n",
    "elif indovina == numero_dado:\n",
    "    print(f\"Complimenti! Il numero del dado era {numero_dado}. Hai indovinato!\")\n",
    "else:\n",
    "    print(f\"Mi dispiace, ma il numero del dado era {numero_dado}. Andrà meglio la prossima volta!\")"
   ]
  },
  {
   "cell_type": "code",
   "execution_count": 11,
   "id": "734f0ff0",
   "metadata": {
    "scrolled": false
   },
   "outputs": [
    {
     "name": "stdout",
     "output_type": "stream",
     "text": [
      "oggi è il giorno: 18 10 2023 ore: 12 30 32\n"
     ]
    }
   ],
   "source": [
    "import datetime\n",
    "\n",
    "today = datetime.datetime.today()\n",
    "print(f\"oggi è il giorno: {today:%d %m %Y} ore: {today:%H %M %S}\") "
   ]
  },
  {
   "cell_type": "code",
   "execution_count": 10,
   "id": "9cbea9d5",
   "metadata": {},
   "outputs": [
    {
     "name": "stdout",
     "output_type": "stream",
     "text": [
      "oggi è il giorno: 18 10 2023 ore: 12 29 53\n"
     ]
    }
   ],
   "source": [
    "import datetime\n",
    "\n",
    "today = datetime.datetime.today()\n",
    "print(f\"oggi è il giorno: {today:%d %m %Y} ore: {today:%H %M %S}\") "
   ]
  },
  {
   "cell_type": "code",
   "execution_count": 15,
   "id": "06f94994",
   "metadata": {},
   "outputs": [
    {
     "name": "stdout",
     "output_type": "stream",
     "text": [
      "Benvenuto nel convertitore di unità di misura!\n",
      "Cosa desideri convertire? (metri/piedi/chilogrammi/libbre): KG\n",
      "Mi prendi per il culo?\n"
     ]
    }
   ],
   "source": [
    "print(\"Benvenuto nel convertitore di unità di misura!\")\n",
    "scelta = input(\"Cosa desideri convertire? (metri/piedi/chilogrammi/libbre): \").lower()\n",
    "\n",
    "if scelta == \"metri\":\n",
    "    valore = float(input(\"Inserisci il valore in metri: \"))\n",
    "    risultato = valore * 3.28084\n",
    "    print(f\"{valore} metri corrispondono a {risultato} piedi.\")\n",
    "\n",
    "elif scelta == \"piedi\":\n",
    "    valore = float(input(\"Inserisci il valore in piedi: \"))\n",
    "    risultato = valore * 3.28084\n",
    "    print(f\"{valore} piedi corrispondono a {risultato} metri.\")\n",
    "\n",
    "elif scelta == \"chilogrammi\":\n",
    "    valore = float(input(\"Inserisci il valore in chilogrammi: \"))\n",
    "    risultato = valore * 2.20462\n",
    "    print(f\"{valore} chilogrammi corrispondono a {risultato} libbre.\")\n",
    "\n",
    "elif scelta == \"libbre\":\n",
    "    valore = float(input(\"Inserisci il valore in libbre: \"))\n",
    "    risultato = valore * 2.20462\n",
    "    print(f\"{valore} libbre corrispondono a {risultato} chilogrammi.\")\n",
    "\n",
    "else:\n",
    "    print(\"Mi prendi per il culo?\")\n"
   ]
  },
  {
   "cell_type": "code",
   "execution_count": 16,
   "id": "a6009fbc",
   "metadata": {},
   "outputs": [
    {
     "name": "stdout",
     "output_type": "stream",
     "text": [
      "Benvenuto nel convertitore di unità di misura!\n",
      "Cosa desideri convertire? (metri/piedi/chilogrammi/libbre): METRI\n",
      "Inserisci il valore in metri: 5\n",
      "5.0 metri corrispondono a 16.4042 piedi.\n"
     ]
    }
   ],
   "source": [
    "print(\"Benvenuto nel convertitore di unità di misura!\")\n",
    "scelta = input(\"Cosa desideri convertire? (metri/piedi/chilogrammi/libbre): \").lower()\n",
    "\n",
    "if scelta == \"metri\":\n",
    "    valore = float(input(\"Inserisci il valore in metri: \"))\n",
    "    risultato = valore * 3.28084\n",
    "    print(f\"{valore} metri corrispondono a {risultato} piedi.\")\n",
    "\n",
    "elif scelta == \"piedi\":\n",
    "    valore = float(input(\"Inserisci il valore in piedi: \"))\n",
    "    risultato = valore * 3.28084\n",
    "    print(f\"{valore} piedi corrispondono a {risultato} metri.\")\n",
    "\n",
    "elif scelta == \"chilogrammi\":\n",
    "    valore = float(input(\"Inserisci il valore in chilogrammi: \"))\n",
    "    risultato = valore * 2.20462\n",
    "    print(f\"{valore} chilogrammi corrispondono a {risultato} libbre.\")\n",
    "\n",
    "elif scelta == \"libbre\":\n",
    "    valore = float(input(\"Inserisci il valore in libbre: \"))\n",
    "    risultato = valore * 2.20462\n",
    "    print(f\"{valore} libbre corrispondono a {risultato} chilogrammi.\")\n",
    "\n",
    "else:\n",
    "    print(\"Mi prendi per il culo?\")\n"
   ]
  },
  {
   "cell_type": "code",
   "execution_count": 18,
   "id": "4c7b24b2",
   "metadata": {},
   "outputs": [
    {
     "name": "stdout",
     "output_type": "stream",
     "text": [
      "inserisci un numero n per calcolare l'n-esimo di Fibonacci:6\n",
      "L'n-esimo numero di Fibonacci è: 5\n"
     ]
    }
   ],
   "source": [
    "#Chiedere all'utente di inserire un numero n\n",
    "n = int(input(\"inserisci un numero n per calcolare l'n-esimo di Fibonacci:\"))\n",
    "# Inizializzare le variabili per i primi due numeri di Fibonacci\n",
    "a=0\n",
    "b=1\n",
    "c=a+b\n",
    "\n",
    "#calcolare l'n-esimo numero di Fibonacci\n",
    "if n<= 0:\n",
    "    risultato = a\n",
    "else:\n",
    "    for iterazione in range(n-3):\n",
    "        a = b\n",
    "        b = c\n",
    "        c = a + b\n",
    "    risultato = c\n",
    "#stampare L'n-esimo numero di Fibonacci\n",
    "print(\"L'n-esimo numero di Fibonacci è:\", risultato)\n"
   ]
  },
  {
   "cell_type": "code",
   "execution_count": 19,
   "id": "8f922212",
   "metadata": {},
   "outputs": [
    {
     "name": "stdout",
     "output_type": "stream",
     "text": [
      "inserisci un numero n per calcolare l'n-esimo di Fibonacci:4\n",
      "L'n-esimo numero di Fibonacci è: 2\n"
     ]
    }
   ],
   "source": [
    "#Chiedere all'utente di inserire un numero n\n",
    "n = int(input(\"inserisci un numero n per calcolare l'n-esimo di Fibonacci:\"))\n",
    "# Inizializzare le variabili per i primi due numeri di Fibonacci\n",
    "a=0\n",
    "b=1\n",
    "c=a+b\n",
    "\n",
    "#calcolare l'n-esimo numero di Fibonacci\n",
    "if n<= 0:\n",
    "    risultato = a\n",
    "else:\n",
    "    for iterazione in range(n-3):\n",
    "        a = b\n",
    "        b = c\n",
    "        c = a + b\n",
    "    risultato = c\n",
    "#stampare L'n-esimo numero di Fibonacci\n",
    "print(\"L'n-esimo numero di Fibonacci è:\", risultato)"
   ]
  },
  {
   "cell_type": "code",
   "execution_count": 2,
   "id": "28c7bcfc",
   "metadata": {},
   "outputs": [],
   "source": [
    "def fibonacci(n):\n",
    "    fib_series = [0, 1]\n",
    "    \n",
    "    while len(fib_series) < n:\n",
    "        fib_series.append(fib_series[-1] + fib_series[-2])\n",
    "        \n",
    "    return fib_series"
   ]
  },
  {
   "cell_type": "code",
   "execution_count": 3,
   "id": "947b00be",
   "metadata": {},
   "outputs": [
    {
     "data": {
      "text/plain": [
       "[0,\n",
       " 1,\n",
       " 1,\n",
       " 2,\n",
       " 3,\n",
       " 5,\n",
       " 8,\n",
       " 13,\n",
       " 21,\n",
       " 34,\n",
       " 55,\n",
       " 89,\n",
       " 144,\n",
       " 233,\n",
       " 377,\n",
       " 610,\n",
       " 987,\n",
       " 1597,\n",
       " 2584,\n",
       " 4181,\n",
       " 6765,\n",
       " 10946,\n",
       " 17711,\n",
       " 28657,\n",
       " 46368,\n",
       " 75025,\n",
       " 121393,\n",
       " 196418,\n",
       " 317811,\n",
       " 514229,\n",
       " 832040,\n",
       " 1346269,\n",
       " 2178309,\n",
       " 3524578,\n",
       " 5702887,\n",
       " 9227465,\n",
       " 14930352,\n",
       " 24157817,\n",
       " 39088169,\n",
       " 63245986,\n",
       " 102334155,\n",
       " 165580141,\n",
       " 267914296,\n",
       " 433494437,\n",
       " 701408733,\n",
       " 1134903170,\n",
       " 1836311903,\n",
       " 2971215073,\n",
       " 4807526976,\n",
       " 7778742049,\n",
       " 12586269025,\n",
       " 20365011074,\n",
       " 32951280099,\n",
       " 53316291173,\n",
       " 86267571272,\n",
       " 139583862445,\n",
       " 225851433717,\n",
       " 365435296162,\n",
       " 591286729879,\n",
       " 956722026041,\n",
       " 1548008755920,\n",
       " 2504730781961,\n",
       " 4052739537881,\n",
       " 6557470319842,\n",
       " 10610209857723,\n",
       " 17167680177565,\n",
       " 27777890035288,\n",
       " 44945570212853,\n",
       " 72723460248141,\n",
       " 117669030460994,\n",
       " 190392490709135,\n",
       " 308061521170129,\n",
       " 498454011879264,\n",
       " 806515533049393,\n",
       " 1304969544928657,\n",
       " 2111485077978050,\n",
       " 3416454622906707,\n",
       " 5527939700884757,\n",
       " 8944394323791464,\n",
       " 14472334024676221,\n",
       " 23416728348467685,\n",
       " 37889062373143906,\n",
       " 61305790721611591,\n",
       " 99194853094755497,\n",
       " 160500643816367088,\n",
       " 259695496911122585,\n",
       " 420196140727489673,\n",
       " 679891637638612258,\n",
       " 1100087778366101931,\n",
       " 1779979416004714189,\n",
       " 2880067194370816120,\n",
       " 4660046610375530309,\n",
       " 7540113804746346429,\n",
       " 12200160415121876738,\n",
       " 19740274219868223167,\n",
       " 31940434634990099905,\n",
       " 51680708854858323072,\n",
       " 83621143489848422977,\n",
       " 135301852344706746049,\n",
       " 218922995834555169026]"
      ]
     },
     "execution_count": 3,
     "metadata": {},
     "output_type": "execute_result"
    }
   ],
   "source": [
    "fibonacci(10)\n",
    "fibonacci(100)"
   ]
  },
  {
   "cell_type": "code",
   "execution_count": 4,
   "id": "dc14f36a",
   "metadata": {},
   "outputs": [
    {
     "data": {
      "text/plain": [
       "[0,\n",
       " 1,\n",
       " 1,\n",
       " 2,\n",
       " 3,\n",
       " 5,\n",
       " 8,\n",
       " 13,\n",
       " 21,\n",
       " 34,\n",
       " 55,\n",
       " 89,\n",
       " 144,\n",
       " 233,\n",
       " 377,\n",
       " 610,\n",
       " 987,\n",
       " 1597,\n",
       " 2584,\n",
       " 4181,\n",
       " 6765,\n",
       " 10946,\n",
       " 17711,\n",
       " 28657,\n",
       " 46368,\n",
       " 75025,\n",
       " 121393,\n",
       " 196418,\n",
       " 317811,\n",
       " 514229,\n",
       " 832040,\n",
       " 1346269,\n",
       " 2178309,\n",
       " 3524578,\n",
       " 5702887,\n",
       " 9227465,\n",
       " 14930352,\n",
       " 24157817,\n",
       " 39088169,\n",
       " 63245986,\n",
       " 102334155,\n",
       " 165580141,\n",
       " 267914296,\n",
       " 433494437,\n",
       " 701408733,\n",
       " 1134903170,\n",
       " 1836311903,\n",
       " 2971215073,\n",
       " 4807526976,\n",
       " 7778742049,\n",
       " 12586269025,\n",
       " 20365011074,\n",
       " 32951280099,\n",
       " 53316291173,\n",
       " 86267571272,\n",
       " 139583862445,\n",
       " 225851433717,\n",
       " 365435296162,\n",
       " 591286729879,\n",
       " 956722026041,\n",
       " 1548008755920,\n",
       " 2504730781961,\n",
       " 4052739537881,\n",
       " 6557470319842,\n",
       " 10610209857723,\n",
       " 17167680177565,\n",
       " 27777890035288,\n",
       " 44945570212853,\n",
       " 72723460248141,\n",
       " 117669030460994,\n",
       " 190392490709135,\n",
       " 308061521170129,\n",
       " 498454011879264,\n",
       " 806515533049393,\n",
       " 1304969544928657,\n",
       " 2111485077978050,\n",
       " 3416454622906707,\n",
       " 5527939700884757,\n",
       " 8944394323791464,\n",
       " 14472334024676221,\n",
       " 23416728348467685,\n",
       " 37889062373143906,\n",
       " 61305790721611591,\n",
       " 99194853094755497,\n",
       " 160500643816367088,\n",
       " 259695496911122585,\n",
       " 420196140727489673,\n",
       " 679891637638612258,\n",
       " 1100087778366101931,\n",
       " 1779979416004714189,\n",
       " 2880067194370816120,\n",
       " 4660046610375530309,\n",
       " 7540113804746346429,\n",
       " 12200160415121876738,\n",
       " 19740274219868223167,\n",
       " 31940434634990099905,\n",
       " 51680708854858323072,\n",
       " 83621143489848422977,\n",
       " 135301852344706746049,\n",
       " 218922995834555169026,\n",
       " 354224848179261915075,\n",
       " 573147844013817084101,\n",
       " 927372692193078999176,\n",
       " 1500520536206896083277,\n",
       " 2427893228399975082453,\n",
       " 3928413764606871165730,\n",
       " 6356306993006846248183,\n",
       " 10284720757613717413913,\n",
       " 16641027750620563662096,\n",
       " 26925748508234281076009,\n",
       " 43566776258854844738105,\n",
       " 70492524767089125814114,\n",
       " 114059301025943970552219,\n",
       " 184551825793033096366333,\n",
       " 298611126818977066918552]"
      ]
     },
     "execution_count": 4,
     "metadata": {},
     "output_type": "execute_result"
    }
   ],
   "source": [
    "fibonacci(15)\n",
    "fibonacci(115)"
   ]
  },
  {
   "cell_type": "code",
   "execution_count": 12,
   "id": "ee62b769",
   "metadata": {},
   "outputs": [
    {
     "name": "stdout",
     "output_type": "stream",
     "text": [
      "inserisci il numero di termini della serie di Fibonacci da generare:61\n",
      "[0, 1, 1, 2, 3, 5, 8, 13, 21, 34, 55, 89, 144, 233, 377, 610, 987, 1597, 2584, 4181, 6765, 10946, 17711, 28657, 46368, 75025, 121393, 196418, 317811, 514229, 832040, 1346269, 2178309, 3524578, 5702887, 9227465, 14930352, 24157817, 39088169, 63245986, 102334155, 165580141, 267914296, 433494437, 701408733, 1134903170, 1836311903, 2971215073, 4807526976, 7778742049, 12586269025, 20365011074, 32951280099, 53316291173, 86267571272, 139583862445, 225851433717, 365435296162, 591286729879, 956722026041, 1548008755920]\n"
     ]
    }
   ],
   "source": [
    "n = int(input(\"inserisci il numero di termini della serie di Fibonacci da generare:\"))\n",
    "\n",
    "if n <= 0:\n",
    "    print(\"Inserisci un numero positivo.\")\n",
    "else:\n",
    "    result = fibonacci(n)\n",
    "    print(result)"
   ]
  },
  {
   "cell_type": "code",
   "execution_count": 17,
   "id": "1b8d956e",
   "metadata": {},
   "outputs": [],
   "source": [
    "import math\n",
    "\n",
    "def calcola_area_cerchio(raggio):\n",
    "    return math.pi * (raggio ** 2)\n",
    "\n",
    "def calcola_area_rettangolo(base, altezza):\n",
    "    return base * altezza\n",
    "def calcola_area_triangolo(base, altezza):\n",
    "    return (base * altezza) / 2"
   ]
  },
  {
   "cell_type": "code",
   "execution_count": 18,
   "id": "3e902077",
   "metadata": {},
   "outputs": [
    {
     "data": {
      "text/plain": [
       "314.1592653589793"
      ]
     },
     "execution_count": 18,
     "metadata": {},
     "output_type": "execute_result"
    }
   ],
   "source": [
    "calcola_area_cerchio(10)"
   ]
  },
  {
   "cell_type": "code",
   "execution_count": 20,
   "id": "85e92b0d",
   "metadata": {},
   "outputs": [
    {
     "name": "stdout",
     "output_type": "stream",
     "text": [
      "Bnevenuto nella Calcolatrice di Aree!\n",
      "Vuoi calcolare l'area di un cerchio (c), rettangolo (r) o triangolo (t)? r\n",
      "Inserisci il raggio del rettangolo: 6\n",
      "Inserisci l'altezza del rettangolo: 3\n",
      "L'area del rettangolo è 18.00\n"
     ]
    }
   ],
   "source": [
    "print(\"Bnevenuto nella Calcolatrice di Aree!\")\n",
    "\n",
    "scelta = input(\"Vuoi calcolare l'area di un cerchio (c), rettangolo (r) o triangolo (t)? \").lower()\n",
    "\n",
    "if scelta == 'c':\n",
    "    raggio = float(input(\"Inserisci il raggio del cerchio: \"))\n",
    "    area = calcola_area_cerchio(raggio)\n",
    "    print(f\"L'area del cerchio è {area:.2f}\")\n",
    "elif scelta == 'r':\n",
    "    base = float(input(\"Inserisci il raggio del rettangolo: \"))\n",
    "    altezza = float(input(\"Inserisci l'altezza del rettangolo: \"))\n",
    "    area = calcola_area_rettangolo(base, altezza)\n",
    "    print(f\"L'area del rettangolo è {area:.2f}\")\n",
    "elif scelta == 't':\n",
    "    base = float(input(\"Inserisci il raggio del triangolo: \"))\n",
    "    altezza = float(input(\"Inserisci l'altezza del triangolo: \"))\n",
    "    area = calcola_area_triangolo(base, altezza)\n",
    "    print(f\"L'area del triangolo è {area:.2f}\")\n",
    "else:\n",
    "    print(\"Scelta non valida. Si prega di inserire 'c', 'r' o 't'.\")\n"
   ]
  },
  {
   "cell_type": "code",
   "execution_count": 9,
   "id": "3c1822d2",
   "metadata": {},
   "outputs": [],
   "source": [
    "def calcola_interessi(importo_iniziale, tasso_intersse, periodi_investimento):\n",
    "    importo_finale = importo_iniziale * (1 + tasso_interesse / 100) ** periodi_imvestimento\n",
    "    return importo_finale\n"
   ]
  },
  {
   "cell_type": "code",
   "execution_count": 10,
   "id": "d8342786",
   "metadata": {},
   "outputs": [
    {
     "name": "stdout",
     "output_type": "stream",
     "text": [
      "Benvenuto nel calcolatore di interessi!\n",
      "Inserisci l'importo iniziale: 34.000\n",
      "Inserisci il tasso di interesse annuale (%): 5\n",
      "Inserisci il periodo di investimento (anni): 21\n"
     ]
    },
    {
     "ename": "NameError",
     "evalue": "name 'tasso_interesse' is not defined",
     "output_type": "error",
     "traceback": [
      "\u001b[1;31m---------------------------------------------------------------------------\u001b[0m",
      "\u001b[1;31mNameError\u001b[0m                                 Traceback (most recent call last)",
      "Cell \u001b[1;32mIn[10], line 7\u001b[0m\n\u001b[0;32m      4\u001b[0m tasso \u001b[38;5;241m=\u001b[39m \u001b[38;5;28mfloat\u001b[39m(\u001b[38;5;28minput\u001b[39m(\u001b[38;5;124m\"\u001b[39m\u001b[38;5;124mInserisci il tasso di interesse annuale (\u001b[39m\u001b[38;5;124m%\u001b[39m\u001b[38;5;124m): \u001b[39m\u001b[38;5;124m\"\u001b[39m))\n\u001b[0;32m      5\u001b[0m periodo \u001b[38;5;241m=\u001b[39m \u001b[38;5;28mint\u001b[39m(\u001b[38;5;28minput\u001b[39m(\u001b[38;5;124m\"\u001b[39m\u001b[38;5;124mInserisci il periodo di investimento (anni): \u001b[39m\u001b[38;5;124m\"\u001b[39m))\n\u001b[1;32m----> 7\u001b[0m importo_finale \u001b[38;5;241m=\u001b[39m calcola_interessi(importo, tasso, periodo)\n\u001b[0;32m      9\u001b[0m \u001b[38;5;28mprint\u001b[39m(\u001b[38;5;124mf\u001b[39m\u001b[38;5;124m\"\u001b[39m\u001b[38;5;124mL\u001b[39m\u001b[38;5;124m'\u001b[39m\u001b[38;5;124mimporto finale dopo \u001b[39m\u001b[38;5;132;01m{\u001b[39;00mperiodo\u001b[38;5;132;01m}\u001b[39;00m\u001b[38;5;124m anni è di \u001b[39m\u001b[38;5;132;01m{\u001b[39;00mimporto_finale\u001b[38;5;132;01m:\u001b[39;00m\u001b[38;5;124m.2f\u001b[39m\u001b[38;5;132;01m}\u001b[39;00m\u001b[38;5;124m euro.\u001b[39m\u001b[38;5;124m\"\u001b[39m)\n",
      "Cell \u001b[1;32mIn[9], line 2\u001b[0m, in \u001b[0;36mcalcola_interessi\u001b[1;34m(importo_iniziale, tasso_intersse, periodi_investimento)\u001b[0m\n\u001b[0;32m      1\u001b[0m \u001b[38;5;28;01mdef\u001b[39;00m \u001b[38;5;21mcalcola_interessi\u001b[39m(importo_iniziale, tasso_intersse, periodi_investimento):\n\u001b[1;32m----> 2\u001b[0m     importo_finale \u001b[38;5;241m=\u001b[39m importo_iniziale \u001b[38;5;241m*\u001b[39m (\u001b[38;5;241m1\u001b[39m \u001b[38;5;241m+\u001b[39m tasso_interesse \u001b[38;5;241m/\u001b[39m \u001b[38;5;241m100\u001b[39m) \u001b[38;5;241m*\u001b[39m\u001b[38;5;241m*\u001b[39m periodi_imvestimento\n\u001b[0;32m      3\u001b[0m     \u001b[38;5;28;01mreturn\u001b[39;00m importo_finale\n",
      "\u001b[1;31mNameError\u001b[0m: name 'tasso_interesse' is not defined"
     ]
    }
   ],
   "source": [
    "print(\"Benvenuto nel calcolatore di interessi!\")\n",
    "\n",
    "importo = float(input(\"Inserisci l'importo iniziale: \"))\n",
    "tasso = float(input(\"Inserisci il tasso di interesse annuale (%): \"))\n",
    "periodo = int(input(\"Inserisci il periodo di investimento (anni): \"))\n",
    "\n",
    "importo_finale = calcola_interessi(importo, tasso, periodo)\n",
    "\n",
    "print(f\"L'importo finale dopo {periodo} anni è di {importo_finale:.2f} euro.\")\n"
   ]
  },
  {
   "cell_type": "code",
   "execution_count": 14,
   "id": "874dedd0",
   "metadata": {},
   "outputs": [],
   "source": [
    "def forza_gravitazionale(m1, m2, r):\n",
    "    # costante gravitazionale\n",
    "    G = 6.67430e-11  #N(m/kg)^2\n",
    "    \n",
    "    # Calcolo della prova gravitazionale\n",
    "    F = (G * m1 * m2) / (r ** 2) \n",
    "    \n",
    "    return F\n",
    "                    "
   ]
  },
  {
   "cell_type": "code",
   "execution_count": 15,
   "id": "ba2006b9",
   "metadata": {},
   "outputs": [
    {
     "name": "stdout",
     "output_type": "stream",
     "text": [
      "Forza gravitazionale tra la Terra e la Luna: 1.9804922390990566e+20 Newton\n"
     ]
    }
   ],
   "source": [
    "# Esempio di utilizzo\n",
    "massa_terra = 5.972e24 #kg\n",
    "massa_luna = 7.342e22 #kg\n",
    "distanza_terra_luna = 384400000  #metri\n",
    "\n",
    "forza = forza_gravitazionale(massa_terra, massa_luna, distanza_terra_luna)\n",
    "print(f\"Forza gravitazionale tra la Terra e la Luna: {forza} Newton\")"
   ]
  },
  {
   "cell_type": "code",
   "execution_count": 16,
   "id": "ad265fe1",
   "metadata": {},
   "outputs": [],
   "source": [
    "from itertools import permutations\n",
    "k=0\n",
    "\n",
    "def trova_anagrammi(parola):\n",
    "    anagrammi = [\"\".join(p) for p in permutations(parola)]\n",
    "    return anagrammi"
   ]
  },
  {
   "cell_type": "code",
   "execution_count": 22,
   "id": "af619295",
   "metadata": {},
   "outputs": [
    {
     "name": "stdout",
     "output_type": "stream",
     "text": [
      "Benvenuto nel Risolutore di Anagrammi!\n",
      "Inserisci una parola:Luca\n",
      "luac\n",
      "lcua\n",
      "lcau\n",
      "lauc\n",
      "lacu\n",
      "ulca\n",
      "ulac\n",
      "ucla\n",
      "ucal\n",
      "ualc\n",
      "uacl\n",
      "clua\n",
      "clau\n",
      "cula\n",
      "cual\n",
      "calu\n",
      "caul\n",
      "aluc\n",
      "alcu\n",
      "aulc\n",
      "aucl\n",
      "aclu\n",
      "acul\n",
      "Gli anagrammi di 'luca' sono: '23'\n"
     ]
    }
   ],
   "source": [
    "print(\"Benvenuto nel Risolutore di Anagrammi!\")\n",
    "\n",
    "parola_input = input(\"Inserisci una parola:\").strip().lower()\n",
    "\n",
    "if len(parola_input) < 2:\n",
    "    print(\"Inserisci uan parola con almeno 2 caratteri.\")\n",
    "else:\n",
    "    anagrammi = trova_anagrammi(parola_input)\n",
    "    \n",
    "    for elemento in anagrammi:\n",
    "        if elemento != parola_input:\n",
    "            k+=1\n",
    "            print(elemento)\n",
    "    print(f\"Gli anagrammi di '{parola_input}' sono: '{k}'\")    \n",
    "        \n"
   ]
  },
  {
   "cell_type": "code",
   "execution_count": 28,
   "id": "e154dd8a",
   "metadata": {},
   "outputs": [
    {
     "ename": "SyntaxError",
     "evalue": "invalid syntax. Perhaps you forgot a comma? (1343283343.py, line 19)",
     "output_type": "error",
     "traceback": [
      "\u001b[1;36m  Cell \u001b[1;32mIn[28], line 19\u001b[1;36m\u001b[0m\n\u001b[1;33m    tasso_di_cambio = tassi_di_cambio[valuta destinazione] / tassi_di_cambio[valuta_di_partenza]\u001b[0m\n\u001b[1;37m                                      ^\u001b[0m\n\u001b[1;31mSyntaxError\u001b[0m\u001b[1;31m:\u001b[0m invalid syntax. Perhaps you forgot a comma?\n"
     ]
    }
   ],
   "source": [
    "#Deinizione dei tassi di cambio\n",
    "\n",
    "tassi_di_cambio = {\n",
    "    \"dollari\": 1.0,\n",
    "    \"euro\": 0.85,\n",
    "    \"yen\": 110.41,\n",
    "    #Aggiungi altre valute e tassi di cambio se necessario\n",
    "\n",
    "}\n",
    "\n",
    "#Chiedi all'utente di inserire l'importo, la valuta di partenza e la valuta di destinazione\n",
    "importo = float(input(\"Inserisci l'importo da convertire: \"))\n",
    "valuta_di_partenza = input(\"Inserisci la valuta di patrtenza: \").lower()\n",
    "valuta_destinazione = input(\"Inserisci la valuta di destinazione: \").lower()\n",
    "\n",
    "#Verifica se le valute sono nel dizionario dei tassi di cambio\n",
    "if valuta_di_partenza in tassi_di_cambio and valuta_destinazione in tassi_di_cambio:\n",
    "    #Calcola il tasso di cambio e l'importo convertito\n",
    "    tasso_di_cambio = tassi_di_cambio[valuta destinazione] / tassi_di_cambio[valuta_di_partenza]\n",
    "    importo_convertito = importo * tasso_di_cambio\n",
    "    \n",
    "    #Stampa il risultato\n",
    "    print(f\"(importo)(valuta_di_partenza) sono equivalenti a (importo_convertito:.2f) (valuta_destinazione)\")\n",
    "else:\n",
    "    print(\"Valute non supportate: Assicurati di inserire valute valide.\")"
   ]
  },
  {
   "cell_type": "code",
   "execution_count": 5,
   "id": "29267372",
   "metadata": {},
   "outputs": [
    {
     "name": "stdout",
     "output_type": "stream",
     "text": [
      "Menù:\n",
      "\n",
      " 1. Aggiungi cibo consumato\n",
      "\n",
      " 2. Calcola calorie totali\n",
      "\n",
      " 3.\n",
      "Scegli un'opzione2\n",
      "/nCalorie totali consumate: 0 calorie\n",
      "Menù:\n",
      "\n",
      " 1. Aggiungi cibo consumato\n",
      "\n",
      " 2. Calcola calorie totali\n",
      "\n",
      " 3.\n",
      "Scegli un'opzione1\n",
      "\n",
      "\n",
      "pizza 285\n",
      "hamburger 250\n",
      "insalata 100\n",
      "pollo arrosto 335\n",
      "yogurt 150\n",
      "Inserisci il cibo consumato: pizza\n",
      "Inserisci la quantità (in grammi): 234\n",
      "Menù:\n",
      "\n",
      " 1. Aggiungi cibo consumato\n",
      "\n",
      " 2. Calcola calorie totali\n",
      "\n",
      " 3.\n",
      "Scegli un'opzione2\n",
      "/nCalorie totali consumate: 666.9 calorie\n",
      "Menù:\n",
      "\n",
      " 1. Aggiungi cibo consumato\n",
      "\n",
      " 2. Calcola calorie totali\n",
      "\n",
      " 3.\n",
      "Scegli un'opzione2\n",
      "/nCalorie totali consumate: 666.9 calorie\n",
      "Menù:\n",
      "\n",
      " 1. Aggiungi cibo consumato\n",
      "\n",
      " 2. Calcola calorie totali\n",
      "\n",
      " 3.\n",
      "Scegli un'opzione1\n",
      "\n",
      "\n",
      "pizza 285\n",
      "hamburger 250\n",
      "insalata 100\n",
      "pollo arrosto 335\n",
      "yogurt 150\n",
      "Inserisci il cibo consumato: 1\n",
      "Inserisci la quantità (in grammi): 234\n",
      "Menù:\n",
      "\n",
      " 1. Aggiungi cibo consumato\n",
      "\n",
      " 2. Calcola calorie totali\n",
      "\n",
      " 3.\n",
      "Scegli un'opzione1\n",
      "\n",
      "\n",
      "pizza 285\n",
      "hamburger 250\n",
      "insalata 100\n",
      "pollo arrosto 335\n",
      "yogurt 150\n",
      "Inserisci il cibo consumato: pizza\n",
      "Inserisci la quantità (in grammi): 230\n",
      "Menù:\n",
      "\n",
      " 1. Aggiungi cibo consumato\n",
      "\n",
      " 2. Calcola calorie totali\n",
      "\n",
      " 3.\n",
      "Scegli un'opzione3\n"
     ]
    }
   ],
   "source": [
    "# Dizionario per il cibo e le calorie per 100 grammi\n",
    "cibo_calorie = {\n",
    "    \"pizza\": 285, \n",
    "    \"hamburger\": 250,\n",
    "    \"insalata\": 100,\n",
    "    \"pollo arrosto\": 335,\n",
    "    \"yogurt\": 150\n",
    "}\n",
    "\n",
    "# Funzione per calcolare le calorie consumate\n",
    "def calorie_consumate(cibo, quantità):\n",
    "    if cibo not in cibo_calorie.keys():\n",
    "        print(\"cibo calorie\")\n",
    "    elif cibo in cibo_calorie.keys():\n",
    "        calorie_per_100g = cibo_calorie[cibo]\n",
    "        calorie_totali = (calorie_per_100g / 100) * quantità\n",
    "        return calorie_totali\n",
    "    \n",
    "# Funzione principale\n",
    "def main ():\n",
    "    cibo_consumato = []\n",
    "    \n",
    "    while True:\n",
    "        print(\"Menù:\")\n",
    "        print(\"\\n 1. Aggiungi cibo consumato\")\n",
    "        print(\"\\n 2. Calcola calorie totali\")\n",
    "        print(\"\\n 3.\")\n",
    "        \n",
    "        scelta = input(\"Scegli un'opzione\")\n",
    "        \n",
    "        if scelta == \"1\":\n",
    "            print(\"\\n\")\n",
    "            \n",
    "            for key, value in cibo_calorie.items():\n",
    "                print (key, value)\n",
    "                \n",
    "            cibo = input(\"Inserisci il cibo consumato: \").lower()\n",
    "            quantità = float(input(\"Inserisci la quantità (in grammi): \"))\n",
    "            cibo_consumato.append((cibo, quantità))\n",
    "            \n",
    "        elif scelta == \"2\":\n",
    "            calorie_totali = sum(calorie_consumate(c, q) for c, q in cibo_consumato)\n",
    "            print(f\"/nCalorie totali consumate: {calorie_totali} calorie\")\n",
    "        elif scelta == \"3\":\n",
    "            break\n",
    "        else:\n",
    "            print(\"\\nScelta con valida. Riprova.\")\n",
    "            \n",
    "if __name__==\"__main__\":\n",
    "    main()\n",
    "                             \n",
    "\n"
   ]
  },
  {
   "cell_type": "code",
   "execution_count": 6,
   "id": "9f063937",
   "metadata": {},
   "outputs": [],
   "source": [
    "acquisti={}\n",
    "acquisti[\"pan bauletto\"]=10\n",
    "acquisti[\"nutella\"]=10"
   ]
  },
  {
   "cell_type": "code",
   "execution_count": 7,
   "id": "5a93579e",
   "metadata": {},
   "outputs": [],
   "source": [
    "acquistidue={\n",
    "    \"pan bauletto\":10,\n",
    "    \"nutella\":10,\n",
    "    \n",
    "}"
   ]
  },
  {
   "cell_type": "code",
   "execution_count": null,
   "id": "739d2ee7",
   "metadata": {},
   "outputs": [],
   "source": [
    "import random\n",
    "\n",
    "# Liste di speci, classi, armi e abilità\n",
    "speci = [\"a\", \"b\", \"C\", \"d\"]\n",
    "classi = [\"guerriero\", \"cavaliere\", \"ranger\", \"chierico\"]\n",
    "armi = [\"spada\" , \"pistola\", \"bacchetta\"]\n",
    "abilità = [\"supervisione\", \"invisibilità\", \"camuffamento\", \"estrazione mineraria\", \"incantesimo\"]\n",
    "\n",
    "# Genera un personaggio casuale\n",
    "specia = random.choice(speci)\n",
    "classe = random.choice(classi)\n",
    "specia = random.choice(armi)\n",
    "abilità_scelte = random.sample(abilità, random.randit(1, 3))\n",
    "\n",
    "# Stampa il personaggio\n"
   ]
  }
 ],
 "metadata": {
  "kernelspec": {
   "display_name": "Python 3 (ipykernel)",
   "language": "python",
   "name": "python3"
  },
  "language_info": {
   "codemirror_mode": {
    "name": "ipython",
    "version": 3
   },
   "file_extension": ".py",
   "mimetype": "text/x-python",
   "name": "python",
   "nbconvert_exporter": "python",
   "pygments_lexer": "ipython3",
   "version": "3.11.4"
  }
 },
 "nbformat": 4,
 "nbformat_minor": 5
}
